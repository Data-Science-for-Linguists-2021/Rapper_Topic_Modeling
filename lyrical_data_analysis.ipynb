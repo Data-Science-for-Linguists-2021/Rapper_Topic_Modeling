{
 "cells": [
  {
   "cell_type": "markdown",
   "id": "impressed-responsibility",
   "metadata": {},
   "source": [
    "# EXISTING: Data Analysis\n",
    "- Will be making 3 data frames: Male Rapper Lyrics, Female Rapper Lyrics, and All Lyrics\n"
   ]
  },
  {
   "cell_type": "code",
   "execution_count": 4,
   "id": "incoming-finding",
   "metadata": {},
   "outputs": [],
   "source": [
    "# import libraries\n",
    "import pandas as pd\n",
    "import json\n",
    "\n",
    "from IPython.core.interactiveshell import InteractiveShell\n",
    "InteractiveShell.ast_node_interactivity = \"all\""
   ]
  },
  {
   "cell_type": "code",
   "execution_count": 5,
   "id": "difficult-harvard",
   "metadata": {},
   "outputs": [
    {
     "data": {
      "text/plain": [
       "dict"
      ]
     },
     "execution_count": 5,
     "metadata": {},
     "output_type": "execute_result"
    },
    {
     "data": {
      "text/plain": [
       "dict_keys(['alternate_names', 'api_path', 'description', 'facebook_name', 'followers_count', 'header_image_url', 'id', 'image_url', 'instagram_name', 'is_meme_verified', 'is_verified', 'name', 'translation_artist', 'twitter_name', 'url', 'current_user_metadata', 'description_annotation', 'user', 'songs'])"
      ]
     },
     "execution_count": 5,
     "metadata": {},
     "output_type": "execute_result"
    }
   ],
   "source": [
    "# Trying out doing a data frame with one of the male artists: \"2Pac\"\n",
    "m_path = './rap_lyrics/male_lyrics/'    # path with the male artists\n",
    "# Pass the JSON into a dictionary\n",
    "with open(m_path+'Lyrics_2Pac.json') as json_file:\n",
    "    data = json.load(json_file)\n",
    "# confirming that it is a dictionary type object   \n",
    "type(data)    # It is!\n",
    "# print out the keys to see where the song lyrics may be held\n",
    "data.keys()   # It should be in 'songs'"
   ]
  },
  {
   "cell_type": "code",
   "execution_count": 6,
   "id": "perceived-palestine",
   "metadata": {},
   "outputs": [
    {
     "data": {
      "text/html": [
       "<div>\n",
       "<style scoped>\n",
       "    .dataframe tbody tr th:only-of-type {\n",
       "        vertical-align: middle;\n",
       "    }\n",
       "\n",
       "    .dataframe tbody tr th {\n",
       "        vertical-align: top;\n",
       "    }\n",
       "\n",
       "    .dataframe thead th {\n",
       "        text-align: right;\n",
       "    }\n",
       "</style>\n",
       "<table border=\"1\" class=\"dataframe\">\n",
       "  <thead>\n",
       "    <tr style=\"text-align: right;\">\n",
       "      <th></th>\n",
       "      <th>artist</th>\n",
       "      <th>title</th>\n",
       "      <th>lyrics</th>\n",
       "    </tr>\n",
       "  </thead>\n",
       "  <tbody>\n",
       "    <tr>\n",
       "      <th>0</th>\n",
       "      <td>2Pac</td>\n",
       "      <td>16 on Death Row</td>\n",
       "      <td>Death Row\\nThat's where mothafuckas is endin' ...</td>\n",
       "    </tr>\n",
       "    <tr>\n",
       "      <th>1</th>\n",
       "      <td>2Pac</td>\n",
       "      <td>1995 Police Station Testimony</td>\n",
       "      <td>Woman – Sir, will you raise your right hand, p...</td>\n",
       "    </tr>\n",
       "    <tr>\n",
       "      <th>2</th>\n",
       "      <td>2Pac</td>\n",
       "      <td>1 for April</td>\n",
       "      <td>2 me your name alone is poetry\\nI barely know ...</td>\n",
       "    </tr>\n",
       "    <tr>\n",
       "      <th>3</th>\n",
       "      <td>2Pac</td>\n",
       "      <td>1st impression</td>\n",
       "      <td>Just when I thought I'd seen it all\\nour paths...</td>\n",
       "    </tr>\n",
       "    <tr>\n",
       "      <th>4</th>\n",
       "      <td>2Pac</td>\n",
       "      <td>1st Impressions: 4 Irene</td>\n",
       "      <td>Just when I thought I'd seen it all\\nour paths...</td>\n",
       "    </tr>\n",
       "  </tbody>\n",
       "</table>\n",
       "</div>"
      ],
      "text/plain": [
       "  artist                          title  \\\n",
       "0   2Pac                16 on Death Row   \n",
       "1   2Pac  1995 Police Station Testimony   \n",
       "2   2Pac                    1 for April   \n",
       "3   2Pac                 1st impression   \n",
       "4   2Pac       1st Impressions: 4 Irene   \n",
       "\n",
       "                                              lyrics  \n",
       "0  Death Row\\nThat's where mothafuckas is endin' ...  \n",
       "1  Woman – Sir, will you raise your right hand, p...  \n",
       "2  2 me your name alone is poetry\\nI barely know ...  \n",
       "3  Just when I thought I'd seen it all\\nour paths...  \n",
       "4  Just when I thought I'd seen it all\\nour paths...  "
      ]
     },
     "execution_count": 6,
     "metadata": {},
     "output_type": "execute_result"
    }
   ],
   "source": [
    "# build a data frame from dictionary using pd.DataFrame.from_dict\n",
    "pac_lyrics_df = pd.DataFrame.from_dict(data['songs'])\n",
    "# data frame should have the columns 'artist', 'title' (for song title), and 'lyrics'\n",
    "pac_lyrics_df = pac_lyrics_df[['artist', 'title', 'lyrics']]\n",
    "# did it populate correctly?\n",
    "pac_lyrics_df.head() # it did!"
   ]
  },
  {
   "cell_type": "code",
   "execution_count": null,
   "id": "formal-column",
   "metadata": {},
   "outputs": [],
   "source": []
  }
 ],
 "metadata": {
  "kernelspec": {
   "display_name": "Python 3",
   "language": "python",
   "name": "python3"
  },
  "language_info": {
   "codemirror_mode": {
    "name": "ipython",
    "version": 3
   },
   "file_extension": ".py",
   "mimetype": "text/x-python",
   "name": "python",
   "nbconvert_exporter": "python",
   "pygments_lexer": "ipython3",
   "version": "3.8.5"
  }
 },
 "nbformat": 4,
 "nbformat_minor": 5
}
