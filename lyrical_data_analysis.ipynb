{
 "cells": [
  {
   "cell_type": "markdown",
   "id": "impressed-responsibility",
   "metadata": {},
   "source": [
    "# EXISTING: Data Analysis\n",
    "- Will be making 3 data frames: Male Rapper Lyrics, Female Rapper Lyrics, and All Lyrics\n"
   ]
  },
  {
   "cell_type": "code",
   "execution_count": 16,
   "id": "incoming-finding",
   "metadata": {},
   "outputs": [],
   "source": [
    "# import libraries\n",
    "import numpy\n",
    "import pandas as pd\n",
    "import json\n",
    "\n",
    "from IPython.core.interactiveshell import InteractiveShell\n",
    "InteractiveShell.ast_node_interactivity = \"all\""
   ]
  },
  {
   "cell_type": "code",
   "execution_count": 2,
   "id": "difficult-harvard",
   "metadata": {},
   "outputs": [],
   "source": [
    "## The following code works but having issues with parsing through and \n",
    "## creating data frames from JSON Files. I need to compile but haven't\n",
    "## figured out how to do that yet.\n",
    "\n",
    "# filename = \"rap_lyrics/male_lyrics/Lyrics_2Pac.json\"\n",
    "# with open(filename) as json_data:\n",
    "   # data = json.load(json_data)"
   ]
  },
  {
   "cell_type": "code",
   "execution_count": null,
   "id": "perceived-palestine",
   "metadata": {},
   "outputs": [],
   "source": []
  }
 ],
 "metadata": {
  "kernelspec": {
   "display_name": "Python 3",
   "language": "python",
   "name": "python3"
  },
  "language_info": {
   "codemirror_mode": {
    "name": "ipython",
    "version": 3
   },
   "file_extension": ".py",
   "mimetype": "text/x-python",
   "name": "python",
   "nbconvert_exporter": "python",
   "pygments_lexer": "ipython3",
   "version": "3.8.5"
  }
 },
 "nbformat": 4,
 "nbformat_minor": 5
}
